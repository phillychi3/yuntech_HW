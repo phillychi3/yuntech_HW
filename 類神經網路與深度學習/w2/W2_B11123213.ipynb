{
 "cells": [
  {
   "cell_type": "markdown",
   "metadata": {},
   "source": [
    "# 深度學習的演變\n",
    "\n",
    "機器學習目前十分依賴特徵工程  \n",
    "特徵工程要在混亂的數據中找到有用的特徵，並且將這些特徵轉換成機器學習算法可以理解的形式  \n",
    "經過不斷的比對，深度學習可以自動萃取數的特徵，並透過輸入近來的圖片是否有特徵來進行識別數字。\n",
    "\n",
    "#  pytorch\n",
    "pytorch 在發布後幾年，已成為重要的深度學習工具  \n",
    "pytorch 支持gpu運算，並且可以自動微分，使運算更加快速  \n",
    "老實說pytorch與tensorflow選自己喜歡的就好，兩者都有自己的優點"
   ]
  },
  {
   "cell_type": "markdown",
   "metadata": {},
   "source": [
    "how to random?\n",
    "```python\n",
    "import random\n",
    "random.randint(7, 35)\n",
    "```\n",
    "now you can pick a student to answer the question"
   ]
  },
  {
   "cell_type": "markdown",
   "metadata": {},
   "source": [
    "如果想要辨識手寫數字，需要訓練一個邊緣在圖型上的分布，來預測數字\n",
    "比如辨識封閉的圈圈 ，在0與8中有出現"
   ]
  }
 ],
 "metadata": {
  "language_info": {
   "name": "python"
  }
 },
 "nbformat": 4,
 "nbformat_minor": 2
}
