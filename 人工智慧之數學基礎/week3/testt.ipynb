{
 "cells": [
  {
   "cell_type": "code",
   "execution_count": 8,
   "metadata": {},
   "outputs": [],
   "source": [
    "import numpy as np\n",
    "import matplotlib.pyplot as plt\n",
    "from __future__ import division\n",
    "import sympy as sp"
   ]
  },
  {
   "cell_type": "code",
   "execution_count": 9,
   "metadata": {},
   "outputs": [
    {
     "name": "stdout",
     "output_type": "stream",
     "text": [
      "2*x - 1/x\n"
     ]
    }
   ],
   "source": [
    "\"\"\"\n",
    "f(x)=x2- ln x\n",
    "plt show diff(f(x))\n",
    "\"\"\"\n",
    "x = sp.Symbol('x')\n",
    "f = x**2 - sp.log(x)\n",
    "df = sp.diff(f, x)\n",
    "print(df)\n",
    "x=np.linspace(-100,100,201)\n",
    "\n",
    "def f(x):\n",
    "    return x**2-np.log(x)"
   ]
  }
 ],
 "metadata": {
  "kernelspec": {
   "display_name": "Python 3.9.1 64-bit",
   "language": "python",
   "name": "python3"
  },
  "language_info": {
   "codemirror_mode": {
    "name": "ipython",
    "version": 3
   },
   "file_extension": ".py",
   "mimetype": "text/x-python",
   "name": "python",
   "nbconvert_exporter": "python",
   "pygments_lexer": "ipython3",
   "version": "3.9.1"
  },
  "orig_nbformat": 4,
  "vscode": {
   "interpreter": {
    "hash": "2f3b5671f503b988d845e5b65bdefcc2786d49224a71d94acc9a091bc866d9be"
   }
  }
 },
 "nbformat": 4,
 "nbformat_minor": 2
}
